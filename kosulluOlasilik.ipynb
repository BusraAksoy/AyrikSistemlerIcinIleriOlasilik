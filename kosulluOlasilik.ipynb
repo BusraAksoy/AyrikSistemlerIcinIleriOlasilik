{
  "nbformat": 4,
  "nbformat_minor": 0,
  "metadata": {
    "colab": {
      "name": "kosulluOlasilik.ipynb",
      "provenance": [],
      "collapsed_sections": [],
      "authorship_tag": "ABX9TyNDVBBgtr9tIjx1UYhm9L6o",
      "include_colab_link": true
    },
    "kernelspec": {
      "name": "python3",
      "display_name": "Python 3"
    },
    "language_info": {
      "name": "python"
    }
  },
  "cells": [
    {
      "cell_type": "markdown",
      "metadata": {
        "id": "view-in-github",
        "colab_type": "text"
      },
      "source": [
        "<a href=\"https://colab.research.google.com/github/BusraAksoy/AyrikSistemlerIcinIleriOlasilik/blob/main/kosulluOlasilik.ipynb\" target=\"_parent\"><img src=\"https://colab.research.google.com/assets/colab-badge.svg\" alt=\"Open In Colab\"/></a>"
      ]
    },
    {
      "cell_type": "markdown",
      "source": [
        "### **KOŞULLU OLASILIK**\n",
        "\n",
        "**Örnek:** Düzenli sefer yapan bir uçuş için uçağın zamanında kalkma olasılığı 0,83, zamanında varma olasılığı ise 0,82 olup hem zamanında varması hem de zamanında kalkma olasılığı 0,78'dir. Buna göre;\n",
        "\n",
        "a) uçağın kalkış saati verildiğine göre zamanında varma olasılığını bulunuz.\n",
        "\n",
        "b) uçağın zamanında varış saati bilindiğine göre zamanında kalkma olasılığını bulunuz.\n",
        "\n",
        "\n",
        "```\n",
        "a) uçağın zamanında varma olasılığı\n",
        "\n",
        "    P(V|K) = P(V ∩ K) / P(K)\n",
        "\n",
        "          = 0,78 / 0,83 \n",
        "          \n",
        "          = 0,939\n",
        "```\n",
        "\n",
        "\n",
        "```\n",
        "b) uçağın zamanında kalkma olasılığı\n",
        "\n",
        "    P(K|V) = P(K ∩ V) / P(V)\n",
        "\n",
        "          = 0,78 / 0,82\n",
        "\n",
        "          = 0,951\n",
        "```"
      ],
      "metadata": {
        "id": "IoOUOIx-IDZo"
      }
    },
    {
      "cell_type": "code",
      "execution_count": 2,
      "metadata": {
        "colab": {
          "base_uri": "https://localhost:8080/"
        },
        "id": "qeLaXiBHHwbI",
        "outputId": "92f35ffa-5640-4096-d185-3b1f1d2235c5"
      },
      "outputs": [
        {
          "output_type": "execute_result",
          "data": {
            "text/plain": [
              "(0.9397590361445783, 0.951219512195122)"
            ]
          },
          "metadata": {},
          "execution_count": 2
        }
      ],
      "source": [
        "def kosulluOlasilik(kalkis,varis,VarisKalkis):\n",
        "  pVK = VarisKalkis / kalkis\n",
        "  pKV = VarisKalkis / varis\n",
        " \n",
        "  return pVK, pKV\n",
        "\n",
        "kosulluOlasilik(0.83,0.82,0.78)"
      ]
    }
  ]
}