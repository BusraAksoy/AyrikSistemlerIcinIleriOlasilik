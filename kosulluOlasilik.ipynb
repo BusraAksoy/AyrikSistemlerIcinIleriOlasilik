{
  "nbformat": 4,
  "nbformat_minor": 0,
  "metadata": {
    "colab": {
      "name": "kosulluOlasilik.ipynb",
      "provenance": [],
      "collapsed_sections": [],
      "authorship_tag": "ABX9TyMwtk9uIeSpXtlayCRhEYfT",
      "include_colab_link": true
    },
    "kernelspec": {
      "name": "python3",
      "display_name": "Python 3"
    },
    "language_info": {
      "name": "python"
    }
  },
  "cells": [
    {
      "cell_type": "markdown",
      "metadata": {
        "id": "view-in-github",
        "colab_type": "text"
      },
      "source": [
        "<a href=\"https://colab.research.google.com/github/BusraAksoy/AyrikSistemlerIcinIleriOlasilik/blob/main/kosulluOlasilik.ipynb\" target=\"_parent\"><img src=\"https://colab.research.google.com/assets/colab-badge.svg\" alt=\"Open In Colab\"/></a>"
      ]
    },
    {
      "cell_type": "markdown",
      "source": [
        "### **KOŞULLU OLASILIK**\n",
        "\n",
        "B olayının gerçekleşmesi koşulu altında A olayının olma olasılığı\n",
        "\n",
        "![kosullu olasılık.jpg](data:image/jpeg;base64,/9j/4AAQSkZJRgABAQEAYABgAAD/2wBDAAMCAgMCAgMDAwMEAwMEBQgFBQQEBQoHBwYIDAoMDAsKCwsNDhIQDQ4RDgsLEBYQERMUFRUVDA8XGBYUGBIUFRT/2wBDAQMEBAUEBQkFBQkUDQsNFBQUFBQUFBQUFBQUFBQUFBQUFBQUFBQUFBQUFBQUFBQUFBQUFBQUFBQUFBQUFBQUFBT/wAARCACFARcDASIAAhEBAxEB/8QAHwAAAQUBAQEBAQEAAAAAAAAAAAECAwQFBgcICQoL/8QAtRAAAgEDAwIEAwUFBAQAAAF9AQIDAAQRBRIhMUEGE1FhByJxFDKBkaEII0KxwRVS0fAkM2JyggkKFhcYGRolJicoKSo0NTY3ODk6Q0RFRkdISUpTVFVWV1hZWmNkZWZnaGlqc3R1dnd4eXqDhIWGh4iJipKTlJWWl5iZmqKjpKWmp6ipqrKztLW2t7i5usLDxMXGx8jJytLT1NXW19jZ2uHi4+Tl5ufo6erx8vP09fb3+Pn6/8QAHwEAAwEBAQEBAQEBAQAAAAAAAAECAwQFBgcICQoL/8QAtREAAgECBAQDBAcFBAQAAQJ3AAECAxEEBSExBhJBUQdhcRMiMoEIFEKRobHBCSMzUvAVYnLRChYkNOEl8RcYGRomJygpKjU2Nzg5OkNERUZHSElKU1RVVldYWVpjZGVmZ2hpanN0dXZ3eHl6goOEhYaHiImKkpOUlZaXmJmaoqOkpaanqKmqsrO0tba3uLm6wsPExcbHyMnK0tPU1dbX2Nna4uPk5ebn6Onq8vP09fb3+Pn6/9oADAMBAAIRAxEAPwD9U6KKKACiiigAooooAKKKKACiiigAooooAKKKKACiiigAooooAKKKKACiiigAooooAKKKKACiiigAooooAKKKKACiiigAooooAKKKKACiiigAooooAKKKKACiiigAooooAKKKKACiiigAooooAKKKKACiiigAooooAKKKKACiiigAooooAKKKKACiiigAooooAKKKKACiiigAooooAKKKKACiiigAooooAKKKKACiiigArO8QRarNod9Hod1Z2WsNEwtLjULZ7i3jkx8pkjSSNmXPUB1PvWjRQB8Rfsn/ALQn7RP7VnwdufHWlXnwx0WSPUJrCPTLzQtRYSNGqNkzLfHaDvx9xsY6GvWv2R/2pbn9oeLxtoXiHw4PCvjzwPqf9la7psMxmt95aRUkicgHazQyjBzjb1IINfJ3/BLv4keO/Cv7K95Y+FPhJq3jcNr128Wow6xp1laCQxwjY/nTiYbcAkrE3B4yeK+m/wBkT9nvXvgTb/E3x54/vLK48c+PNVfW9Xg0lme1s40MrxwRswBYr50vOO4HO3JANTxP8Z/FnxN+MmsfCz4Uy2Om/wDCORQy+KvGeoW/2qLTnlyY7O2gyoluWUFizHZGM5DN8te+6fbzWtjbQ3Fy97PHGqSXMiqrSsAAXIUBQSecAAc8V8i/8EtFbWf2ar3xrdhX1rxl4l1TW9Rm6s8zTGPBJ5wBHwPc+pr0z9tr4zN8Dv2cPFOt2l3DZ67qCLo2kSTzLEq3lyfLR97EKPLUvKSTgCIk0AeafAP9uHU/i5+1Z4o+HOoaPY2Hg+4s7m98HatFG4m1SK1untZ5GYyFXVpIbhk2ouFiOc9a+wa/LX9oLxn8KPgJf/steLvh18RPCviGT4dXkXh/VrfQtZtru4n06aMC4mZI5C2MLcZOMbrjntX6kRyJNGskbK6MAyspyCD0INAGX4s8WaP4F8N6j4g8Qajb6RounQtcXd9dPsjijUckn+nUkgDk18vN/wAFLPh+bE63H4C+KE/gkZJ8aR+FJP7H2DrJ5pfdt/4Bn2qp/wAFFLd/GC/A74czuV0Lxf4+sLXV484Fxaxku0R9iSD9UWvriHS7K30tNNis7ePTkhFutmkSiFYgu0RhMYC7eMYxjigDM8D+ONA+JPhXTfEvhjVbfW9C1GITWt9atuSRen1BBBBUgEEEEAjFXPEEWqzaHfR6HdWdlrDRMLS41C2e4t45MfKZI0kjZlz1AdT718kf8E/9N/4QHx7+0Z8N7E7PDfhvxmbjSrVT8lrFdIz+Sgx8qqI14HGcnuSfsigD4m/ZI/aA/aE/aw+Ec/jiw1L4Z+HRHqE+nrY3Hh3UJ9zRojbi41AYB34+6cY716D+zZ+014n+Lnj74m/CzxvoVn4X8f8AgtkSa+0OZp7K5jlB2TRLKuVx8jBX3ZDjPcV8xf8ABL7SfjFqH7Kd/wD8IB4l8F6Npza5eKkevaHdXdyJvLhywlju40C/dwDG2MHOelevf8E/9R0rSPiJ8YfCXijTrm3+PFrfx3Xi7Vbq7S5TV1bJintiiIIoBvGIdoKCRMlj90A9R8N/GTxb8K/i/onww+K9xZatF4lWX/hFfGtjbfZUv5Yxl7O7hyViudpBVkISToFVvlr6Gr4+/wCCpqtpP7MMPi+0Ii1rwj4k0vWtNnxzHcLOIwQQeOJD+Qr64029XUtPtbtFKJcRLKqt1AYA4P50AWaKKKACiiigAooooAKK+Cf2gbPVtQ/4KR/CbwPD428baR4T8WaJeXmqaTpHirULOB5obe8ZGjWOYCLmCLITaDtJIyzE2PjxqnjD9jb43/Bu88K+O/EviTwZ4015NB1fwz4t1WXVdu941EtvNOWlQgOxxvxuVeoYigD7uor5/wD2svjZr3gC38G+A/Ajwp8SviBqX9laRPPGJU0+FQGur5ozw4hQghT1JB5AIPofwk+DWi/CDS7qOxudR1jWNQ2PqmvazeSXV7qEq7sPI7k4A3thFCqu4gAUAd7RXwl/wUi+JfxCeM+FvhZ4i1Dw7qnhDQ5fHuvXmmXMkEjWscqwQ27MhGQwa5lKNkEW4yD1H178HfiLa/Fz4U+EfGlkFWDXtLt9Q8tTkRNJGGeP6qxZT7qaAOwor5F8D/8AKT74k/8AZP7H/wBKEriP2poNXm/b4+CfhW08aeNNF8OeL7S6Or6Zo3ii/soJWhik8tkSKZREfkXOwKGIyckkkA+8aK+A/wBtK08Wfsi6X4E8Y/C34h+NNQ13UvElto58I+IteuNat9XSRHbYiXLSMjZRV3KR/rOobbX0/wDHL4FyfEKN/E3hPWbzwf8AE7TrQxaT4gsZ2VW2lnS2uouY57dnZsq6nG4lcGgD12ivIP2Vfjx/w0R8HrDxLd2I0nxFaXEuk69pYP8Ax56jAQs8Y5OFOVdQSSFdc816/QAUUUUAFZ3iDUrrR9Dvr2x0q5128giaSHTbOSKOa5YDhEaV0jBPqzKPetGigD44/wCCZPwo+I/wF+Duq+BPiJ4HuvDV1Hqs2pW2of2hZXVvcRyJEuz9xO7q4KMeVC4I+bPFfYskaTRtHIqujAqysMgg9QRTqKAPj3/gnDFJ8NvCnxD+Ceqkw674A8S3MccL/el0+5PnWtwOeVfMh9uM8mpPj94b+KfxD/as+E90nwrvtc+Efgu8nvrycanpga+vJIHjinSCW5VtkDMjDcAxzJhfu59m+J37Pmn+OPGWneOtC1m+8EfETTrc2cHiLS1RzcWpbcbW6hcFLiEnna2GU8qymvUbGO4hsbdLuZLm6WNVmmjj8tZHAG5guTtBOTjJx6mgD54/bg+Dtx8Tv2bvFPhLwn4AXxP4g1ZI47KOyeztPssqSLIszyTyR4UFMfIWY5xjBJHXfsnN4+tfgR4V0f4l+Grnw34u0Wzj0y6We8trpbsRKES4R4JXHzKF3BtpDbuCME+wUUAfOf7VHwm8V/Ej4kfAPVfDmlf2jYeF/GEeq6vN9oii+zWwUAyYd1L8/wAKBj7V9GUUUAfOf7Nvwm8V+Afjt+0L4i17SvsGj+Ktcs7zRrn7RFJ9qhSF1dtqOWTBIGHCn2r3vxBqV1o+h317Y6Vc67eQRNJDptnJFHNcsBwiNK6Rgn1ZlHvWjRQB8E/sL+GPjV+yp8C7jwXrfwL13WdVbVbjUEmsPEGirBtkSNVUlrwMDlDnCnr3r1D9lr9nrxr4d+NPxO+NnxLXT9N8XeNvJtrfQdMuDcpptnEFVEkmwBJIVihB2jaPLJH3sL9TVDeRzS2k6W0qwXDIwjldN6o2OGK5GQDzjIz60AfIv/BSCN/iJ4H8B/BfTCZtf+IXia0tvs8eC8Vjbt511ckdljCxkn0J+lfXkEMdtDHDEgjijUIiKMBQBgAV5V8MP2fbLwT4w1Dx14h1u88c/ETULcWk3iHU40jFtbBi32a0gQbbeHJztG5mPLOxr1mgAooooAKKKKACiiigD8/f2oLHX9T/AOCoHwCtvDGsWeg64/hrUPs+oahp7X0MWIL8tugEsRfKBlHzrgsDzjB960/9k/UPFXxc8NfET4r+O5PiBq3hdnk0HS7PSk0vS7CViCZ/I8yV3lBVCGaQ4KqccDGV8Uv2S/F/j79qTwn8adM+JOl6Hd+FrZrLTNIm8MPdRmF0lWUTSC9QuWE8oyoTAK8ZBJ+naAPjb4hSvqH/AAVQ+FdpdITaad4Dvr2yZjx9okluIpdvv5arnHY19iXVzFZ28txPIsMESGSSRzhVUDJJPoBXyl+2d4bv/h/8RfhX+0LpVpcX0HgK7mtPElraozyHRrpDHNOEUEt5G5n2gdGLHAXI9Z+MnhTUf2jvgjeaN4C8f2PhzTvE1oYm8Q21h/aXm2cikOINs8QUspxvy2ATgA4IAPmH9n34h6l4+j+L3xA1P4PeO/GWmfE/UJbeyvdJTThbvoUEbWttEBcXsTglTMzfIATJkZ61r/8ABKXxhf2vwk8X/CfXobiy1/4d69PYvZ3gCzxW8zvIm9QzAHzRcD5WK4AwSOT9Mfs8/C3Vvgp8IvD3gfVfEFn4l/sK3SxtL+00xrDdbooVBJGZ5dzjBy4ZQcj5Rgk+R/Cj9kPxp8Nf2nPFfxgn+KGm6l/wliiPWfD9v4Xe2t5EUKIzE5vXKOuwfMwfO5+Pm4AMnwP/AMpPviT/ANk/sf8A0oSvPP2x/DNv4y/4KDfs2aNdXeo2NvdWOoq9xpN/NY3SYjkbKTwsroeOqkZBI6E16H4H/wCUn3xJ/wCyf2P/AKUJW/8AGz9k3xf8Uv2ifB/xX0j4kaX4buPCMEkOkabceGHvVHmIyytNJ9tj8wkuxG1UAG0ckEkA8R/bI+H6fsaXHhX9oDwnq+q+JdR0nU4dLv8AS/GuoPrXnWkwbd9mnui81vL8mMxtyGORhSG/QKxu0v7O3uYwyxzRrIoYYIBGRn35r5r8afsg+IPjlrfh9/jL8SV8ZeGNFvV1GHwromhLpFjczqCFa4JnnkkABb5dyjDEdzn2v4tfFXw78FfAOq+LvFF6tlpdhEW25HmXEhHyQxL/AByOcKqjkk0AfMv7BrSWXxq/as0qGMxaXD4+luoUGdomlMplxnj+BOB047Yr7Kr5u/YR+Euu/Dr4T6x4i8X2f9n+NPH+uXfi3VrNs77Rrlg0cDZAIKpgkEZDO47V9I0AfmF4w/4dtf8ACW63/bv/ACHPt0/2/wD5GT/j48xvN+58v3t33ePTisj/AI1i/wCf+Enr9VKKAPKv2W/+FY/8KJ8M/wDCmv8Akm3+lf2V/wAfX/P1L53/AB9fvv8AXeb9/wDD5cVq/Gr/AIWn/wAIra/8Ki/4Q/8A4ST7an2j/hNftX2P7L5cm7Z9m+fzd/lYz8u3f3xXoFFAHyr/AMZvf9W//wDlco/4ze/6t/8A/K5X1VRQB8q/8Zvf9W//APlco/4ze/6t/wD/ACuV9VV8zeHP25rHxh488W+DdE+EXxI1TxH4UlWHWLOCHSf9GZiwX5jqAVwdpwVJoAzv+M3v+rf/APyuUf8AGb3/AFb/AP8Alcr0r4M/tTeCvjZ4m1zwrYJqvh3xtoah9S8K+JLM2eoWyHGH2ZZXT5l+ZGYYdDnDKT0fxh+NHh34J+H7XUdcN1d3moXK2OlaNpkJnvtTum+5BbxD7zn1JCjqxAoA8S/4ze/6t/8A/K5R/wAZvf8AVv8A/wCVyvQfiJ+0ZefBf4JTfEfx58PtcsLa1kH27StFurS+uLGFn2xyylpYkOSyBljL7S3VlBauct/2zluPAdl41/4Ux8UP+ETu7GPVI9UisNOnX7I8YkWYxxXzy7dhDH5MgdRQBg/8Zvf9W/8A/lco/wCM3v8Aq3//AMrleseH/jxY/FL4ORfED4U2S/EG3n/1GnrdCwlkKvtljzKuElUbsK+0MQPmAO6tT4P/ABq8PfGrQ7280UXdjqGm3LWOraJqsP2e/wBMuV6wzxZO09wQSrDlSaAPE/8AjN7/AKt//wDK5R/xm9/1b/8A+VyvqqigD5V/4ze/6t//APK5XtXwV/4Wn/wit1/wt3/hD/8AhJPtr/Z/+EK+1fY/svlx7d/2n5/N3+bnHy7dnfNegUUAFFFFABRRRQAUUUUAFFFFACMoZSCMg8EGuT8C/Cnwl8MZ9Xk8KaHb6AmqzC4u7axLR27SDd86wg+XGx3HcUUbuM5wMdbRQAUUUUAchY/CbwppvxQ1L4iW2leX4x1LT49KutS+0SnzLZGDLH5ZfyxggHcFB966+iigArkda+EvhDxJ460zxjq+g22qeItLhEFhd3u6YWg3M26KNiUjkyxzIqhyMAtgADrqKACiiigAooooAKKKKACiiigAr85/gH8ZvAvwe/bq/ann8b+LNJ8Kw3t7YrbNql0sHnlFkLBNx+YgMuceor9GK/PD9i34qeD9S/b6/aUitPEul3J8Q3Vq2kNFdoyagIfMEvkMDiQruBwueASOATQB1HwY0+5+O/8AwUG8Q/Grw1pl5a/DjSvDS6FBrl1aSWya3dEjLwBwDJGoJG/p+7THUV0ngC4/4XN/wUa+I2p6huudN+FGh2ej6PAwBjhu75PMnuB6OVSSLPdR7V9h18a/s52//CA/8FBv2lfDd2PLm8TWej+JNPLnmaCNHjlZfULLcFfqtAHb/wDBR3/kyf4p/wDXjB/6VQ15X4R/ah8V/DP9inwNPpfwW8ZX39n+DNMgTWryOzbS1QWUa/bHEE81wYAB5hHkbinUKa9D/wCCmXiPStD/AGL/AIg2+o6ja2VxqUMFpZQzyqj3M32iJ/LjBOWbarNgdlJ6A1zvwR/bP+DXgH9lb4bWV5420vVtd03whplpL4c0qQXeoyXEdlGrW4gTLb9ylTkAA5yQKAOz/wCCefwt8OfCn9lzw3Y+GfFVp40s9Skl1SbWbAMtvNPIQrqisAyhAioQ4DZQ5VSSo4/4mXQ+DP8AwUV+FusWH+iad8U9FvdC1iFCAk9zZKJbedl7yDzIogx/hJA6mrX/AAS/+Eniz4Q/sx/ZPF+nT6JfaxrV1rFtpFyGWSxtpEiRI2UklMmJn2nkeZzzms/9pO0Pjr9v79mPw9ZjdceHbbWfEV+VOTFbvHGkbMMcBpLcoD3LdqAPsmiiigAooooAKKKKACiiigAooooAKKKKACiiigAooooAKKKKACiiigAooooAKKKKACiiigAooooAKKKKACvE/j18B9T8beKvC3xG8C6na6D8TvCnmJY3F8jNZ6laSA+bY3YX5vKc8hxkxkllBJr2yigDnvAes69r3hq2u/E3h3/hF9aJZJ9OW9jvEUg43JKmNyN1GVVsHlQeK6GiigDn/Hms67oPhe7vPDXh7/hKdaXatvphvY7NZGZgNzyvwqLncSAzYB2qxwD5l8CfgPqng/xd4n+JPjzUbTXfif4nVILqewVhZ6XZIcxWNpv+by1OGZzguwDEAivbaKACiiigAooooAKKKKACiiigAooooAKKKKACiiigAooooAKKKKACiiigAooooAKKKKACiiigAooooAKKKKACiiigAooooAKKKKACiiigAooooAKKKKACiiigAooooAKKKKACiiigAooooAKKKKACiiigAooooAKKKKACiiigAooooAKKKKACiiigAooooAKKKKACiiigAooooAKKKKACiiigD//ZHpupTMpHnTWxBQS5O7zIwjMQNxYZB9HooAKKKKAPONP+AvhiH4nS/EDU21DxJ4pRpBp91rV0Z49Jjf70VnFgRwgjgsF3kcM5r0eiigAooooAKKKKACiiigAooooAKKKKACiiigAooooAKKKKACiiigAooooAKKKKACiiigAooooAKKKKACiiigAooooAKKKKACiiigAooooAKKKKACiiigD/2Q==)\n",
        "\n",
        "\n",
        "**Örnek:** Düzenli sefer yapan bir uçuş için uçağın zamanında kalkma olasılığı 0,83, zamanında varma olasılığı ise 0,82 olup hem zamanında varması hem de zamanında kalkma olasılığı 0,78'dir. Buna göre;\n",
        "\n",
        "a) uçağın kalkış saati verildiğine göre zamanında varma olasılığını bulunuz.\n",
        "\n",
        "b) uçağın zamanında varış saati bilindiğine göre zamanında kalkma olasılığını bulunuz.\n",
        "\n",
        "\n",
        "```\n",
        "a) uçağın zamanında varma olasılığı\n",
        "\n",
        "    P(V|K) = P(V ∩ K) / P(K)\n",
        "\n",
        "          = 0,78 / 0,83 \n",
        "          \n",
        "          = 0,939\n",
        "```\n",
        "\n",
        "\n",
        "```\n",
        "b) uçağın zamanında kalkma olasılığı\n",
        "\n",
        "    P(K|V) = P(K ∩ V) / P(V)\n",
        "\n",
        "          = 0,78 / 0,82\n",
        "\n",
        "          = 0,951\n",
        "```"
      ],
      "metadata": {
        "id": "IoOUOIx-IDZo"
      }
    },
    {
      "cell_type": "code",
      "execution_count": null,
      "metadata": {
        "colab": {
          "base_uri": "https://localhost:8080/"
        },
        "id": "qeLaXiBHHwbI",
        "outputId": "92f35ffa-5640-4096-d185-3b1f1d2235c5"
      },
      "outputs": [
        {
          "output_type": "execute_result",
          "data": {
            "text/plain": [
              "(0.9397590361445783, 0.951219512195122)"
            ]
          },
          "metadata": {},
          "execution_count": 2
        }
      ],
      "source": [
        "def kosulluOlasilik(kalkis,varis,VarisKalkis):\n",
        "  pVK = VarisKalkis / kalkis\n",
        "  pKV = VarisKalkis / varis\n",
        " \n",
        "  return pVK, pKV\n",
        "\n",
        "kosulluOlasilik(0.83,0.82,0.78)"
      ]
    }
  ]
}