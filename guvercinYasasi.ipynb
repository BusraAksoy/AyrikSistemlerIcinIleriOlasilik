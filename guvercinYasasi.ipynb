{
  "nbformat": 4,
  "nbformat_minor": 0,
  "metadata": {
    "colab": {
      "name": "Untitled0.ipynb",
      "provenance": [],
      "collapsed_sections": [],
      "authorship_tag": "ABX9TyOpA7emWtJnJVJcQXSUCBC7",
      "include_colab_link": true
    },
    "kernelspec": {
      "name": "python3",
      "display_name": "Python 3"
    },
    "language_info": {
      "name": "python"
    }
  },
  "cells": [
    {
      "cell_type": "markdown",
      "metadata": {
        "id": "view-in-github",
        "colab_type": "text"
      },
      "source": [
        "<a href=\"https://colab.research.google.com/github/BusraAksoy/AyrikSistemlerIcinIleriOlasilik/blob/main/guvercinYasasi.ipynb\" target=\"_parent\"><img src=\"https://colab.research.google.com/assets/colab-badge.svg\" alt=\"Open In Colab\"/></a>"
      ]
    },
    {
      "cell_type": "markdown",
      "source": [
        "**Soru:** 5 kişinin yarıştığı bir koşu ocak, mart, nisan ve mayıs aylarında her gün yapılıyor. Buna göre en az 2 yarışta aynı sonucun(sıralamanın) görüldüğünü ispatlayın. \n",
        "\n",
        "**Çözüm:** \n",
        "1. olmak için 5 aday var\n",
        "2. olmak için 4 aday var\n",
        "3. olmak için 3 aday var\n",
        "4. olmak için 2 aday var\n",
        "5. olmak için 1 aday var\n",
        "\n",
        "Bu durumda 5! =120 farklı sıralama olur.\n",
        "\n",
        "Yapılan yarış sayısı = günlerin toplamı\n",
        "31+31+30+31=123 gün\n",
        "\n",
        "Burada sıralama yuva sayısını, gün sayısı ise güvercin sayısını temsil ediyor.\n",
        "\n",
        "123/120 = 1.025 olur. Bu sayıyı yukarı yuvarlarsak en az 2 yarışta aynı sıralama görülür.\n"
      ],
      "metadata": {
        "id": "HSdf0JjQ8tC4"
      }
    },
    {
      "cell_type": "code",
      "execution_count": 36,
      "metadata": {
        "colab": {
          "base_uri": "https://localhost:8080/"
        },
        "id": "i_2IfsWFrJn8",
        "outputId": "0eeaf3d7-ec4d-49db-d853-a4d165f74f05"
      },
      "outputs": [
        {
          "output_type": "stream",
          "name": "stdout",
          "text": [
            "2\n"
          ]
        }
      ],
      "source": [
        "import math\n",
        "\n",
        "#Yuva sayısı\n",
        "faktoriyel=1\n",
        "for i in range(5):\n",
        "    faktoriyel = faktoriyel * (i+1)\n",
        "\n",
        "\n",
        "#Güvercin sayısı ----> belirtilen ayların gün sayısının toplamı = 123\n",
        "toplam=123\n",
        "sonuc=math.ceil(toplam/faktoriyel)\n",
        "\n",
        "print(sonuc)\n"
      ]
    },
    {
      "cell_type": "markdown",
      "source": [
        "**Soru:** Bir üniversitenin ders takvimine göre bir hafta içinde 35 farklı ders saati vardır. Her hafta 720 farklı ders verildiğine göre, üniversitenin ihtiyaç duyacağı en az derslik sayısı kaçtır?\n",
        "\n",
        "**Çözüm:** Bu soruda dersler güvercinleri, derslerin her hafta verileceği ders saatleri de yuvalara karşılık gelmektedir. \n",
        "\n",
        "720 nesneyi 35 farklı kutuya dağıtırsak, kutulardan en az biri 720/35=20,57 yuvarlarsak 21 ya da daha fazla nesne içermek zorundadır, dolayısıyla üniversitenin ihtiyaç duyacağı en az derslik sayısı 21 olur."
      ],
      "metadata": {
        "id": "NWDwj18hQKI-"
      }
    },
    {
      "cell_type": "code",
      "source": [
        "import math\n",
        "\n",
        "ders=720 #güvercin\n",
        "dersSaati=35 #yuva\n",
        "\n",
        "sonuc=math.ceil(ders/dersSaati)\n",
        "print(sonuc)\n"
      ],
      "metadata": {
        "colab": {
          "base_uri": "https://localhost:8080/"
        },
        "id": "EJU4CDNgh4sF",
        "outputId": "784b7dd1-6a3b-4583-9ed3-d2cfe7aaa9ae"
      },
      "execution_count": 34,
      "outputs": [
        {
          "output_type": "stream",
          "name": "stdout",
          "text": [
            "21\n"
          ]
        }
      ]
    }
  ]
}